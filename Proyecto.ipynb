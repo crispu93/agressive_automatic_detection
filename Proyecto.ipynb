{
 "cells": [
  {
   "cell_type": "markdown",
   "metadata": {},
   "source": [
    "### Importación de las dependencias"
   ]
  },
  {
   "cell_type": "code",
   "execution_count": 6,
   "metadata": {},
   "outputs": [],
   "source": [
    "### Working with regular expresions\n",
    "import re\n",
    "\n",
    "### nltk module for spanish dictionary and tokenize\n",
    "import nltk\n",
    "from nltk.tokenize import word_tokenize\n",
    "from nltk.corpus import wordnet, stopwords"
   ]
  },
  {
   "cell_type": "markdown",
   "metadata": {},
   "source": [
    "### Pre-procesamiento de los datos"
   ]
  },
  {
   "cell_type": "code",
   "execution_count": 7,
   "metadata": {},
   "outputs": [],
   "source": [
    "def preprocessing_tweet(tweet):\n",
    "    ### Puts everithing in lowecase\n",
    "    tweet = tweet.lower()\n",
    "    ### Remove all mentions to @USUARIO\n",
    "    tweet = re.sub('@\\w+', '', tweet)\n",
    "    ### Remove links <URL>\n",
    "    tweet = re.sub('<url>', '', tweet)\n",
    "    ### Remove special character and punctuation marks\n",
    "    tweet = re.sub('[¡!\"\\'#$%&()*+,-./:;<=>¿?@[\\]^_`{|}~\\n]', '', tweet)\n",
    "    ### Remove all mentions to retweet\n",
    "    tweet = re.sub('rt','', tweet)\n",
    "    ### Remove numbers\n",
    "    tweet = re.sub('[0-9]+','', tweet)\n",
    "    return tweet\n",
    "\n",
    "def remove_stopwords(tweet):\n",
    "    stop_words = stopwords.words('spanish')\n",
    "    tweet = ' '.join([word for word in tweet.split() if word not in stop_words])\n",
    "    return tweet\n",
    "    \n",
    "def clean_text(lines_t):\n",
    "    tweets = []\n",
    "    for line in lines_t:\n",
    "        tweet = preprocessing_tweet(line)\n",
    "        tweet = remove_stopwords(tweet)\n",
    "        tweets.append(tweet)\n",
    "    \n",
    "    return tweets"
   ]
  },
  {
   "cell_type": "markdown",
   "metadata": {},
   "source": [
    "### Lectura de los archivos de datos"
   ]
  },
  {
   "cell_type": "code",
   "execution_count": 30,
   "metadata": {},
   "outputs": [],
   "source": [
    "file_t = open('AggressiveDetection_train.txt', 'r', encoding=\"utf8\")\n",
    "file_l = open('AggressiveDetection_train_solution.txt','r')\n",
    "\n",
    "lines_t = file_t.readlines()\n",
    "lines_l = file_l.readlines()\n",
    "\n",
    "file_t.close()\n",
    "file_l.close()\n",
    "tweets = clean_text(lines_t)\n",
    "labels = [int(line) for line in lines_l]\n",
    "#print(labels)\n",
    "#print(tweets)"
   ]
  },
  {
   "cell_type": "markdown",
   "metadata": {},
   "source": [
    "### Análisis exploratorio de los datos"
   ]
  },
  {
   "cell_type": "markdown",
   "metadata": {},
   "source": [
    "### Preparación del modelo\n",
    "Basado en Deep Learning with Python(Chollet) "
   ]
  },
  {
   "cell_type": "code",
   "execution_count": 31,
   "metadata": {},
   "outputs": [
    {
     "name": "stdout",
     "output_type": "stream",
     "text": [
      "Found 17022 unique tokens\n"
     ]
    }
   ],
   "source": [
    "from keras.preprocessing.text import Tokenizer\n",
    "from keras.preprocessing.sequence import pad_sequences\n",
    "import numpy as np\n",
    "\n",
    "training_samples = int(7700*0.8)\n",
    "validation_samples = int(7700*0.2)\n",
    "### Consider only this amount of words \n",
    "#max_words = 10000\n",
    "\n",
    "tokenizer = Tokenizer()\n",
    "tokenizer.fit_on_texts(tweets)\n",
    "\n",
    "### Tweets saved by index \n",
    "sequences = tokenizer.texts_to_sequences(tweets)\n",
    "\n",
    "### Dictionary of vocabulary\n",
    "word_index = tokenizer.word_index\n",
    "print(\"Found %s unique tokens\" %len(word_index))\n",
    "\n",
    "### Transform a list of sequences of integers into a 2D Numpy array of shape (num_samples, num_timesteps(lenght))\n",
    "data = pad_sequences(sequences)\n",
    "labels = np.asarray(labels)\n",
    "\n",
    "### Shuffles the data\n",
    "indices = np.arange(data.shape[0])\n",
    "np.random.shuffle(indices)\n",
    "data = data[indices]\n",
    "labels = labels[indices]\n",
    "\n",
    "### Split the data into training and validation set\n",
    "X_train = data[:training_samples]\n",
    "Y_train = labels[:training_samples]\n",
    "X_val = data[training_samples: training_samples + validation_samples]\n",
    "Y_val =labels[training_samples: training_samples + validation_samples]"
   ]
  },
  {
   "cell_type": "markdown",
   "metadata": {},
   "source": [
    "### Definiendo el modelo"
   ]
  },
  {
   "cell_type": "code",
   "execution_count": null,
   "metadata": {},
   "outputs": [],
   "source": [
    "from keras.models import Sequential\n",
    "from keras.layers import Embedding, Flatten, Dense"
   ]
  }
 ],
 "metadata": {
  "kernelspec": {
   "display_name": "Python 3",
   "language": "python",
   "name": "python3"
  },
  "language_info": {
   "codemirror_mode": {
    "name": "ipython",
    "version": 3
   },
   "file_extension": ".py",
   "mimetype": "text/x-python",
   "name": "python",
   "nbconvert_exporter": "python",
   "pygments_lexer": "ipython3",
   "version": "3.7.3"
  }
 },
 "nbformat": 4,
 "nbformat_minor": 2
}
